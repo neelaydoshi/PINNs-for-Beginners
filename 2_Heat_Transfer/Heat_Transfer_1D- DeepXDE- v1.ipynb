{
 "cells": [
  {
   "cell_type": "markdown",
   "id": "c289dfaf",
   "metadata": {},
   "source": [
    "# Heat Transfer in 1D Rod- DeepXDE Implementation"
   ]
  },
  {
   "cell_type": "markdown",
   "id": "7ce3c79a",
   "metadata": {},
   "source": [
    "## Theoretical Background"
   ]
  },
  {
   "cell_type": "markdown",
   "id": "d18b25a4",
   "metadata": {},
   "source": [
    "### Objective\n",
    "\n",
    "In the previous tutorial: [1D Heat Conduction Using PINNs](https://github.com/neelaydoshi/PINNs-for-Beginners/blob/main/2_Heat_Transfer/Heat_Transfer_1D-%20v1.ipynb), we developed PINN model using [PyTorch](https://pytorch.org/) directly. In this tutorial, we will solve solve the same problem, but using the [DeepXDE](https://github.com/lululxvi/deepxde) library. The library can use PyTorch, TensorFlow, Paddle or JAX in the backend (users choice). This library allows us to define the boundary conditions with great ease. It also handles the generation of points on the boundary and the interior regions, thus simplifying the process of generating the training/test dataset, setting up the PINN model and training it.\n"
   ]
  },
  {
   "cell_type": "markdown",
   "id": "659a8f5f",
   "metadata": {},
   "source": [
    "### Problem Statement\n",
    "\n",
    "Let us consider a rod of length $L = 0.5 \\ m$, width $w = 1\\ cm$ and thermal conductivity $k = 225 \\ W/m.K$. Since we are considering a 1D heat conduction, we will assume that the rod has unit depth. The left side of the wall is at a constant temperature of $100 \\degree C$ (Dirichlet boundary condition). The top, bottom and right surfaces of the rod are exposed to the air at a temperature of $T_{\\infty} = 10 \\degree C$, with a convective heat transfer coefficient of $h = 25\\ W/m^2.K$. We wish to compute the temperature profile within this rod. We will solve this using a simple PINN model and validate the result using FDM (finite difference method).\n",
    "\n"
   ]
  },
  {
   "cell_type": "markdown",
   "id": "ee006f65",
   "metadata": {},
   "source": [
    "## Governing Equations"
   ]
  },
  {
   "cell_type": "markdown",
   "id": "e619c622",
   "metadata": {},
   "source": [
    "### Overview\n",
    "\n",
    "A detailed derivation of the governing equations can be found in my previous tutorial notebook: [1D Heat Conduction Using PINNs](https://github.com/neelaydoshi/PINNs-for-Beginners/blob/main/2_Heat_Transfer/Heat_Transfer_1D-%20v1.ipynb). Neural networks converge faster if the inputs and outputs are normalized. In the previous tutorial, we expected the PINN to output the **normalized** value of temperature $(\\hat{T})$ (min-max normalization) :\n",
    "$$ \\displaystyle{  \\hat{T} = \\frac{ T - T_{\\infty} }{ T_{wall} - T_{\\infty} } } $$\n",
    "\n",
    "We then **de-normalized** the output manually before computing the boundary and physics losses :\n",
    "$$ T = \\hat{T} \\times (T_{wall} - T_{\\infty}) + T_{\\infty} $$\n",
    "\n",
    "DeepXDE computes the boundary and physics losses internally and so we cannot manually de-normalize the output of the PINN. So instead, we will normalize the governing equations itself. \n"
   ]
  },
  {
   "cell_type": "markdown",
   "id": "88c3200a",
   "metadata": {},
   "source": [
    "### Left Boundary\n",
    "\n",
    "$$\n",
    "\\begin{align}\n",
    "\\nonumber T_0 &= T_{wall} \\\\[10pt]\n",
    "%%\n",
    "\\nonumber \\hat{T}_0 \\times (T_{wall} - T_{\\infty}) + T_{\\infty} &= T_{wall} \\\\[10pt]\n",
    "%%\n",
    "\\nonumber \\hat{T}_0 \\times (T_{wall} - T_{\\infty}) &= ( T_{wall} - T_{\\infty} )\n",
    "\\end{align}\n",
    "$$\n",
    "\n",
    "$$\n",
    "\\boxed{\n",
    "\\hat{T}_0 = 1\n",
    "}\n",
    "$$"
   ]
  },
  {
   "cell_type": "markdown",
   "id": "eea0ae08",
   "metadata": {},
   "source": [
    "### Interior Points\n",
    "\n",
    "$$\n",
    "\\begin{align}\n",
    "\\nonumber k \\cdot w \\cdot \\frac{d^2 T}{d x^2} - 2 h (T - T_{\\infty}) &= 0 \\\\[10pt]\n",
    "%%\n",
    "\\nonumber k \\cdot w \\cdot \\frac{d^2}{dx^2} [ \\hat{T} \\cdot (T_{wall} - T_{\\infty}) + T_{\\infty} ] - 2 h \\cdot ( [ \\hat{T} \\cdot (T_{wall} - T_{\\infty}) + T_{\\infty}] - T_{\\infty} ) &= 0 \\\\[10pt]\n",
    "%%\n",
    "\\nonumber k \\cdot w \\cdot (T_{wall} - T_{\\infty}) \\cdot \\frac{d^2 \\hat{T}}{dx^2} - 2 h \\cdot \\hat{T} \\cdot (T_{wall} - T_{\\infty}) &= 0\n",
    "%%\n",
    "\\end{align} \n",
    "$$\n",
    "\n",
    "$$\n",
    "\\boxed{\n",
    "k \\cdot w \\cdot \\frac{d^2 \\hat{T} }{d x^2} - 2 h \\cdot \\hat{T} = 0 \n",
    "}\n",
    "$$\n"
   ]
  },
  {
   "cell_type": "markdown",
   "id": "a3d07991",
   "metadata": {},
   "source": [
    "### Right Boundary\n",
    "\n",
    "$$\n",
    "\\begin{align}\n",
    "\\nonumber k \\frac{dT_N}{dx} + h (T_N - T_{\\infty}) &= 0 \\\\[10pt]\n",
    "%%\n",
    "\\nonumber k \\cdot \\frac{d}{dx} [ \\hat{T}_N \\cdot (T_{wall} - T_{\\infty}) + T_{\\infty} ] + h ( [ \\hat{T}_N \\cdot (T_{wall} - T_{\\infty}) + T_{\\infty} ] - T_{\\infty}) &= 0 \\\\[10pt]\n",
    "%%\n",
    "\\nonumber k \\cdot (T_{wall} - T_{\\infty}) \\cdot \\frac{d \\hat{T}_N }{ dx } + h \\cdot \\hat{T}_N \\cdot (T_{wall} - T_{\\infty}) &= 0 \\\\[10pt]\n",
    "%%\n",
    "\\end{align}\n",
    "$$\n",
    "\n",
    "$$\n",
    "\\boxed{\n",
    "\\frac{d \\hat{T}_N}{dx} = -\\left(\\frac{h}{k} \\right) \\cdot \\hat{T}_N\n",
    "}\n",
    "$$\n",
    "\n"
   ]
  },
  {
   "cell_type": "markdown",
   "id": "4e8c429c",
   "metadata": {},
   "source": [
    "## Import Libraries"
   ]
  },
  {
   "cell_type": "code",
   "execution_count": 1,
   "id": "13c02771",
   "metadata": {},
   "outputs": [
    {
     "name": "stderr",
     "output_type": "stream",
     "text": [
      "Using backend: pytorch\n",
      "Other supported backends: tensorflow.compat.v1, tensorflow, jax, paddle.\n",
      "paddle supports more examples now and is recommended.\n"
     ]
    },
    {
     "name": "stdout",
     "output_type": "stream",
     "text": [
      "GPU available: True\n"
     ]
    }
   ],
   "source": [
    "# Import libraries\n",
    "import deepxde as dde\n",
    "import numpy as np\n",
    "import tensorflow as tf\n",
    "\n",
    "# Set backend\n",
    "dde.backend.backend_name = \"pytorch\"\n",
    "\n",
    "# Check if GPU is available (its okay if it isn't)\n",
    "print(f\"GPU available: {dde.backend.is_gpu_available()}\")\n"
   ]
  },
  {
   "cell_type": "markdown",
   "id": "d66623cf",
   "metadata": {},
   "source": [
    "## Setup Model"
   ]
  },
  {
   "cell_type": "markdown",
   "id": "06e34b21",
   "metadata": {},
   "source": [
    "### Define Physical Parameters and Initialize Geometry "
   ]
  },
  {
   "cell_type": "code",
   "execution_count": 2,
   "id": "33dd2674",
   "metadata": {},
   "outputs": [],
   "source": [
    "##############\n",
    "# Parameters\n",
    "T_wall  = 100.0     # left wall temperature [°C]\n",
    "T_inf   = 10.0      # ambient temperature [°C]\n",
    "L       = 0.5       # rod length [m]\n",
    "w       = 0.01      # width of rod [m]\n",
    "k       = 225.0     # thermal conductivity [W/m.K]\n",
    "h       = 25.0      # convective heat transfer coefficient [W/m^2.K]\n",
    "\n",
    "##############\n",
    "# Geometry\n",
    "geom = dde.geometry.Interval(0, L)\n"
   ]
  },
  {
   "cell_type": "markdown",
   "id": "9d2afb85",
   "metadata": {},
   "source": [
    "### Define Governing ODE for Collocation Points "
   ]
  },
  {
   "cell_type": "markdown",
   "id": "0781b9fc",
   "metadata": {},
   "source": [
    "Recall that the normalized governing equation is :\n",
    "$$ k \\cdot w \\cdot \\frac{d^2 \\hat{T} }{d x^2} - 2 h \\cdot \\hat{T} = 0  $$\n",
    "\n",
    "In the `pde()` function definition below, `hessian()` is an internal function of DeepXDE that computes the [Hessian Matrix](https://en.wikipedia.org/wiki/Hessian_matrix) of the output `y` w.r.t the input `x`. In the most generic case, the matrix would be a 3D matrix, and thus we have to pass the arguments `component`, `i` and `j` to extract the relevant output:\n",
    "- `component` : The index of the output w.r.t which we wish to compute the derivative. \n",
    "- `i` : Row of the Hessian Matrix.\n",
    "- `j` : Column of the Hessian Matrix.\n",
    "\n",
    "Since our PINN will output only one variable (temperature) and has only one input argument (position), thus all the aforementioned argument are set to `0`.\n",
    "\n",
    "**Note :** <br>\n",
    "For collocation points, DeepXDE expects the PDE function to return the residual of the governing equation. Thus the funciton `pde()` has been setup accordingly.\n"
   ]
  },
  {
   "cell_type": "code",
   "execution_count": 3,
   "id": "b5bd55ad",
   "metadata": {},
   "outputs": [],
   "source": [
    "##############\n",
    "# PDE definition\n",
    "def pde(x, y):\n",
    "    d2y_dx2 = dde.grad.hessian(y, x, component=0, i=0, j=0) # second derivative of the output (d2T_dx2)\n",
    "    return k*w*d2y_dx2 - 2*h*y\n"
   ]
  },
  {
   "cell_type": "markdown",
   "id": "bd6ecd68",
   "metadata": {},
   "source": [
    "### Left Boundary Condition\n"
   ]
  },
  {
   "cell_type": "markdown",
   "id": "1efa2b25",
   "metadata": {},
   "source": [
    "Recall that the normalized left B.C is :\n",
    "$$ \\hat{T}_0 = 1 $$\n",
    "\n",
    "The funciton `boundary_left()` below checks if the input point `x` lies on the left boundary. The `on_boundary` is an internally generated boolean variable of DeepXDE library. The `np.isclose()` function serves as a secondary check for handling floating point error.\n",
    "\n",
    "The `dde.icbc.DirichletBC()` function of DeepXDE will first check if the input point `x` lies on the left boundary using the `boundary_left()` function. It then computes the boundary loss for the output `y` of the PINN (at left boundary) by comparing it with the desired value `1.0`. Recall that the output of the model is normalized, and thus the value `y = 1.0` corresponds to the value of $T_{wall}$.  \n"
   ]
  },
  {
   "cell_type": "code",
   "execution_count": 4,
   "id": "b3844a6d",
   "metadata": {},
   "outputs": [],
   "source": [
    "##############\n",
    "# Check on-boundary left\n",
    "def boundary_left(x, on_boundary):\n",
    "    return on_boundary and np.isclose(x[0], 0.0)\n",
    "\n",
    "##############\n",
    "bc_left = dde.icbc.DirichletBC(geom, lambda x: 1.0, boundary_left)\n"
   ]
  },
  {
   "cell_type": "markdown",
   "id": "27091b0f",
   "metadata": {},
   "source": [
    "### Right Boundary Condition"
   ]
  },
  {
   "cell_type": "markdown",
   "id": "4fa21d2d",
   "metadata": {},
   "source": [
    "Recall the normalized equation for the right B.C :\n",
    "$$ \\frac{d \\hat{T}_N}{dx} = -\\left(\\frac{h}{k} \\right) \\cdot \\hat{T}_N $$\n",
    "\n",
    "The `boundary_right()` funciton checks if the point `x` lies on the right boundary of the given geometry. The `on_boundary` is an DeepXDE generated boolean variable. The above equation is a [Robin B.C](https://en.wikipedia.org/wiki/Robin_boundary_condition). DeepXDE internally expects the function `robin_bc()` to return the value of the derivative, i.e., the RHS of the above equation (and NOT the residual of the equation). Thus the function `robin_bc()` has been setup accordingly.\n"
   ]
  },
  {
   "cell_type": "code",
   "execution_count": 5,
   "id": "bbc73ea1",
   "metadata": {},
   "outputs": [],
   "source": [
    "##############\n",
    "# Check on-boundary right\n",
    "def boundary_right(x, on_boundary):\n",
    "    return on_boundary and np.isclose(x[0], L)\n",
    "\n",
    "# Define right boundary condition : dT_dx = -(h/k)*T\n",
    "def robin_bc(x, y):\n",
    "    return -(h/k)*y\n",
    "\n",
    "##############\n",
    "bc_right = dde.icbc.RobinBC(geom, robin_bc, boundary_right)\n"
   ]
  },
  {
   "cell_type": "markdown",
   "id": "5d79de2a",
   "metadata": {},
   "source": [
    "## Create PINN Model"
   ]
  },
  {
   "cell_type": "markdown",
   "id": "588fe7be",
   "metadata": {},
   "source": [
    "**Create Dataset :**\n",
    "\n",
    "The `dde.data.PDE()` allows us to setup the problem statement with great ease. It takes care of computing the various boundary condition and physics losses, as well as the generation of training dataset. The value of `num_domain` corresponds to the number of collocations points we wish to generate in the interior region of the geometry, while the value `num_boundary` corresponds to the number of points to be considered on the boundary. The `num_test` argument defines the number of test dataset points generated for computing test-loss. This is different from the training dataset and this loss will NOT be used in back-probagation for weight update.\n",
    "\n",
    "Note :<br>\n",
    "- Internally, DeepXDE uses `num_boundary` to generate points for each of the given boundary condition (and NOT the boundaries itself). Suppose we had 4 B.C for the left boundary and 2 B.C for the right boundary, then we must defince at-least `num_boundary = 6`. \n",
    "- Since we have just 2 B.C (one each for each boundary), a value of `num_boundary = 2` would suffice. But we wish to be stringent about the enforcement of the B.C, so we will use `num_boundary = 4`, thus 2 points for each of the B.C will be used in the loss computation.\n"
   ]
  },
  {
   "cell_type": "markdown",
   "id": "e8d87962",
   "metadata": {},
   "source": [
    "**Initialize PINN Model :**\n",
    "\n",
    "- `FNN()` : Define a simple Feed-Forward Neural Network (FNN):\n",
    "    - Architecture : 1 input, 3 hidden-layers with 20 neurons each and 1 output.\n",
    "    - `tanh` : activation function\n",
    "    - `Glorot uniform` : weight initialization\n"
   ]
  },
  {
   "cell_type": "code",
   "execution_count": 6,
   "id": "f582dc8d",
   "metadata": {},
   "outputs": [],
   "source": [
    "##############\n",
    "# Define the data\n",
    "data = dde.data.PDE(geom, pde, [bc_left, bc_right], num_domain=50, num_boundary=4, num_test=100)\n",
    "\n",
    "##############\n",
    "# Initialize PINN\n",
    "net = dde.nn.FNN([1] + [20]*3 + [1], \"tanh\", \"Glorot uniform\")\n"
   ]
  },
  {
   "cell_type": "markdown",
   "id": "eb143d12",
   "metadata": {},
   "source": [
    "## Run Model"
   ]
  },
  {
   "cell_type": "markdown",
   "id": "f3e9ee25",
   "metadata": {},
   "source": [
    "### `Adam` Optimizer\n"
   ]
  },
  {
   "cell_type": "markdown",
   "id": "d5e5b255",
   "metadata": {},
   "source": [
    "- We will use `adam` optimizer, with a large initial learning rate of `lr = 0.01`, and a large decay value of `0.8` after every `1000` iterations. I have selected a large decay value of `0.8` since we are training it for just `10_000` iterations. \n",
    "- `loss_weights` : You will see that during training, the model prints 3 losses: PDE loss, Left B.C loss and Right B.C loss, respectively. The magnitude of each of these losses varies largely. Thus, we multiply them by some factor, a.k.a `loss_weights`, so that they are all given roughly equal \"weightage\" during training. Moreover, a larger magnitude of loss will allow the network to update the paremeters better. \n"
   ]
  },
  {
   "cell_type": "code",
   "execution_count": 7,
   "id": "5ae364b7",
   "metadata": {},
   "outputs": [
    {
     "name": "stdout",
     "output_type": "stream",
     "text": [
      "Compiling model...\n",
      "'compile' took 2.671053 s\n",
      "\n",
      "Training model...\n",
      "\n",
      "Step      Train loss                        Test loss                         Test metric\n",
      "0         [8.40e+02, 1.00e+02, 1.89e+02]    [8.19e+02, 1.00e+02, 1.89e+02]    []  \n"
     ]
    },
    {
     "name": "stderr",
     "output_type": "stream",
     "text": [
      "c:\\Users\\E40065690\\Documents\\Learning\\venvs\\test_pinns\\Lib\\site-packages\\torch\\autograd\\graph.py:823: UserWarning: Attempting to run cuBLAS, but there was no current CUDA context! Attempting to set the primary context... (Triggered internally at C:\\actions-runner\\_work\\pytorch\\pytorch\\pytorch\\aten\\src\\ATen\\cuda\\CublasHandlePool.cpp:180.)\n",
      "  return Variable._execution_engine.run_backward(  # Calls into the C++ engine to run the backward pass\n"
     ]
    },
    {
     "name": "stdout",
     "output_type": "stream",
     "text": [
      "2500      [1.83e-01, 6.91e-03, 4.57e-04]    [1.36e-01, 6.91e-03, 4.57e-04]    []  \n",
      "5000      [1.69e-02, 8.63e-05, 1.42e-05]    [1.21e-02, 8.63e-05, 1.42e-05]    []  \n",
      "7500      [1.33e-02, 3.02e-05, 2.47e-06]    [1.13e-02, 3.02e-05, 2.47e-06]    []  \n",
      "10000     [1.19e-02, 2.91e-05, 1.67e-06]    [1.00e-02, 2.91e-05, 1.67e-06]    []  \n",
      "\n",
      "Best model at step 10000:\n",
      "  train loss: 1.19e-02\n",
      "  test loss: 1.01e-02\n",
      "  test metric: []\n",
      "\n",
      "'train' took 77.649945 s\n",
      "\n"
     ]
    }
   ],
   "source": [
    "# Model compilation\n",
    "model = dde.Model(data, net)\n",
    "model.compile(\"adam\", lr=1e-2, decay=(\"step\", 1000, 0.8), loss_weights=[10, 100, 1000])\n",
    "\n",
    "# Model training\n",
    "losshistory, train_state = model.train(iterations=10_000, display_every=2_500)\n"
   ]
  },
  {
   "cell_type": "markdown",
   "id": "d72ac491",
   "metadata": {},
   "source": [
    "### `L-BFGS-B` Algorithm\n"
   ]
  },
  {
   "cell_type": "markdown",
   "id": "aaf606f7",
   "metadata": {},
   "source": [
    "Since we have trained it for just `10_000` iterations, it is unlikely to have converged to the minima. Thus we will use [L-BFGS-B](https://en.wikipedia.org/wiki/Limited-memory_BFGS) optimization algorithm, which is an iterative method for solving unconstrained nonlinear optimization problems. It is a quasi-Newton second-order method and has a much faster convergence as compared to Adam optimizer. \n",
    "\n",
    "Note : <br>\n",
    "We can use this algorithm only once we are close to the minima.\n"
   ]
  },
  {
   "cell_type": "code",
   "execution_count": 8,
   "id": "39d1bb42",
   "metadata": {},
   "outputs": [
    {
     "name": "stdout",
     "output_type": "stream",
     "text": [
      "Compiling model...\n",
      "'compile' took 0.000406 s\n",
      "\n",
      "Training model...\n",
      "\n",
      "Step      Train loss                        Test loss                         Test metric\n",
      "10000     [1.19e-03, 2.91e-07, 1.67e-09]    [1.00e-03, 2.91e-07, 1.67e-09]    []  \n",
      "\n",
      "Best model at step 10000:\n",
      "  train loss: 1.19e-03\n",
      "  test loss: 1.00e-03\n",
      "  test metric: []\n",
      "\n",
      "'train' took 0.008946 s\n",
      "\n"
     ]
    }
   ],
   "source": [
    "# Then switch to L-BFGS for fine-tuning\n",
    "model.compile(\"L-BFGS-B\")\n",
    "losshistory, train_state = model.train()\n",
    "\n",
    "# # Display Training Plot\n",
    "# dde.saveplot(losshistory, train_state, issave=False, isplot=True)"
   ]
  },
  {
   "cell_type": "markdown",
   "id": "d23ff3fb",
   "metadata": {},
   "source": [
    "## Solution Evaluation "
   ]
  },
  {
   "cell_type": "markdown",
   "id": "dad99c75",
   "metadata": {},
   "source": [
    "**PINN Model Prediction :**"
   ]
  },
  {
   "cell_type": "code",
   "execution_count": 9,
   "id": "d065639c",
   "metadata": {},
   "outputs": [
    {
     "name": "stdout",
     "output_type": "stream",
     "text": [
      "PINN | Temperature at left boundary  : 99.95 deg C\n",
      "PINN | Temperature at right boundary : 26.49 deg C\n"
     ]
    }
   ],
   "source": [
    "# Prediction\n",
    "X = np.linspace(0, L, 51).reshape(-1, 1)\n",
    "T_norm_pred = model.predict(X)\n",
    "T_pred = T_norm_pred*(T_wall - T_inf) + T_inf\n",
    "\n",
    "print(f'PINN | Temperature at left boundary  : {T_pred[0, 0]:.2f} deg C')\n",
    "print(f'PINN | Temperature at right boundary : {T_pred[-1, 0]:.2f} deg C')\n"
   ]
  },
  {
   "cell_type": "markdown",
   "id": "7b4673ca",
   "metadata": {},
   "source": [
    "**FDM Solution :**"
   ]
  },
  {
   "cell_type": "code",
   "execution_count": 10,
   "id": "e0fce208",
   "metadata": {},
   "outputs": [
    {
     "name": "stdout",
     "output_type": "stream",
     "text": [
      "FDM | Temperature at right boundary : 100.00 deg C\n",
      "FDM | Temperature at right boundary : 26.52 deg C\n"
     ]
    }
   ],
   "source": [
    "# Import function\n",
    "from utils_HT_1D_FDM_v1 import heat_transfer_1D_FDM\n",
    "\n",
    "dx  = 0.01 # cell size for discretization (in m)\n",
    "x_fdm, T_fdm = heat_transfer_1D_FDM(T_wall, T_inf, k, h, L, w, dx)\n",
    "\n",
    "print(f'FDM | Temperature at right boundary : {T_fdm[0]:.2f} deg C')\n",
    "print(f'FDM | Temperature at right boundary : {T_fdm[-1]:.2f} deg C')\n"
   ]
  },
  {
   "cell_type": "markdown",
   "id": "7f0719cb",
   "metadata": {},
   "source": [
    "## Visualization"
   ]
  },
  {
   "cell_type": "markdown",
   "id": "79517f8f",
   "metadata": {},
   "source": [
    "### Comparison of PINN Solution with FDM "
   ]
  },
  {
   "cell_type": "code",
   "execution_count": 11,
   "id": "7e7fb4e7",
   "metadata": {},
   "outputs": [
    {
     "data": {
      "image/png": "[encoded data removed]",
      "text/plain": [
       "<Figure size 600x300 with 1 Axes>"
      ]
     },
     "metadata": {},
     "output_type": "display_data"
    }
   ],
   "source": [
    "# Plotting\n",
    "import matplotlib.pyplot as plt\n",
    "\n",
    "# Plot the temperature profile (line plot)\n",
    "plt.figure(figsize=(6, 3))\n",
    "plt.plot(x_fdm, T_fdm, '-k', label='FDM Solution')\n",
    "plt.plot(X, T_pred, \".\", label=\"PINN Solution (DeepXDE)\")\n",
    "\n",
    "plt.xlabel('x [m]')\n",
    "plt.ylabel('Temperature [°C]')\n",
    "plt.title('Temperature Profile Along 1D Rod')\n",
    "plt.axis([0, L, 0, T_wall])\n",
    "plt.legend()\n",
    "plt.grid(True)\n",
    "plt.show()\n"
   ]
  },
  {
   "cell_type": "markdown",
   "id": "d272c126",
   "metadata": {},
   "source": [
    "### Heat-map Visualization"
   ]
  },
  {
   "cell_type": "code",
   "execution_count": 12,
   "id": "6187dfc6",
   "metadata": {},
   "outputs": [
    {
     "data": {
      "image/png": "[encoded data removed]",
      "text/plain": [
       "<Figure size 600x300 with 2 Axes>"
      ]
     },
     "metadata": {},
     "output_type": "display_data"
    }
   ],
   "source": [
    "import numpy as np\n",
    "import matplotlib.pyplot as plt\n",
    "\n",
    "# Reshape T_pred into a 2D array with 1 row (or a few rows for thickness)\n",
    "heatmap_data = T_pred.reshape(1, -1)  # shape (1, N)\n",
    "\n",
    "plt.figure(figsize=(6, 3))\n",
    "# Display heatmap: extent sets x-axis limits, y-axis from 0 to 1 for thickness\n",
    "cmap = plt.get_cmap('RdBu_r')\n",
    "im = plt.imshow(heatmap_data, aspect='auto', cmap=cmap, \n",
    "                extent=[0, L, 0, 1], origin='lower',\n",
    "                vmin=0, vmax=100)\n",
    "\n",
    "cbar = plt.colorbar(im, pad=0.4, orientation='horizontal', label='Temperature [°C]')\n",
    "cbar.ax.invert_xaxis()\n",
    "\n",
    "plt.xlabel('x [m]')\n",
    "plt.yticks([])  # Hide y-axis ticks as it's just a color strip\n",
    "plt.title('Heat Map of Temperature Profile Along 1D Rod')\n",
    "plt.show()\n"
   ]
  }
 ],
 "metadata": {
  "kernelspec": {
   "display_name": "test_pinns",
   "language": "python",
   "name": "python3"
  },
  "language_info": {
   "codemirror_mode": {
    "name": "ipython",
    "version": 3
   },
   "file_extension": ".py",
   "mimetype": "text/x-python",
   "name": "python",
   "nbconvert_exporter": "python",
   "pygments_lexer": "ipython3",
   "version": "3.12.0"
  }
 },
 "nbformat": 4,
 "nbformat_minor": 5
}
