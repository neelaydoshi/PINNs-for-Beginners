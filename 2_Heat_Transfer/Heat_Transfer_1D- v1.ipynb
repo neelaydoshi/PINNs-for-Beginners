{
 "cells": [
  {
   "cell_type": "markdown",
   "metadata": {},
   "source": [
    "# 1D Heat Conduction Using PINNs"
   ]
  },
  {
   "cell_type": "markdown",
   "metadata": {},
   "source": [
    "### Notes"
   ]
  },
  {
   "cell_type": "markdown",
   "metadata": {},
   "source": [
    "**Model inputs:**\n",
    "- `x` : position along the rod length under consideration (in m)\n",
    "- `L` : length of the rod (in m)\n",
    "- `side` : length of the cross-section of the rod (in m)\n",
    "\n",
    "**Model output:**\n",
    "- `T` : temperature of the rod at location `x` : normalized in range [0, 1]\n"
   ]
  },
  {
   "cell_type": "markdown",
   "metadata": {},
   "source": [
    "### Discussion"
   ]
  },
  {
   "cell_type": "markdown",
   "metadata": {},
   "source": [
    "**Input features:**\n",
    "- Upon including more input features, such as $T_{wall},\\ T_{inf},\\ k$ and $h$, the model failed to converge. \n",
    "- This is likely due to the numerically large values of these variables as compared to $x,\\ L$ and $s$. \n",
    "- Maybe min-max normalization of these variables could be helpful. \n",
    "- However, since the above parameters are not varying, it might not be very meaningful to include them as input features.\n",
    "\n",
    "**Output Features:**\n",
    "- Including other outputs such as $\\alpha = k A_{cs}$ and $\\beta = h P$ is also not useful since these are constants.\n"
   ]
  },
  {
   "cell_type": "markdown",
   "metadata": {},
   "source": [
    "### Recommendation from ChatGPT:\n",
    "\n",
    "- **Activation Functions:** Using smooth activations like `Tanh` is common in PINNs because they yield smooth derivatives, which is important when computing higher-order derivatives for the PDE residual. `ReLU`, while popular in many applications, has a non-differentiable point at zero and can yield zero gradients in some regions; this might hinder training when the network needs to produce accurate second derivatives."
   ]
  },
  {
   "cell_type": "markdown",
   "metadata": {},
   "source": [
    "## Import Libraries"
   ]
  },
  {
   "cell_type": "code",
   "execution_count": 1,
   "metadata": {},
   "outputs": [],
   "source": [
    "import torch\n",
    "import torch.nn as nn\n",
    "import torch.optim as optim\n",
    "import numpy as np\n",
    "import matplotlib.pyplot as plt\n"
   ]
  },
  {
   "cell_type": "code",
   "execution_count": 2,
   "metadata": {},
   "outputs": [
    {
     "name": "stdout",
     "output_type": "stream",
     "text": [
      "cpu\n"
     ]
    }
   ],
   "source": [
    "# Set device (use GPU if available)\n",
    "# device = torch.device('cuda' if torch.cuda.is_available() else 'cpu')\n",
    "device = torch.device('cpu') # since the network is small, cpu will suffice\n",
    "print(device)\n"
   ]
  },
  {
   "cell_type": "markdown",
   "metadata": {},
   "source": [
    "**Set random generator seed for consistency:**"
   ]
  },
  {
   "cell_type": "code",
   "execution_count": 3,
   "metadata": {},
   "outputs": [
    {
     "name": "stdout",
     "output_type": "stream",
     "text": [
      "torch.cuda.manual_seed_all set to : 42\n"
     ]
    }
   ],
   "source": [
    "import random\n",
    "seed = 42\n",
    "random.seed(seed)\n",
    "np.random.seed(seed)\n",
    "torch.manual_seed(seed)\n",
    "if torch.cuda.is_available():\n",
    "    torch.cuda.manual_seed_all(seed)\n",
    "    print(f\"torch.cuda.manual_seed_all set to : {seed}\")\n"
   ]
  },
  {
   "cell_type": "markdown",
   "metadata": {},
   "source": [
    "## Initialize Parameters"
   ]
  },
  {
   "cell_type": "markdown",
   "metadata": {},
   "source": [
    "**Min-max Normalization:**\n",
    "- Scales features in the range of [0, 1]\n",
    "\n",
    "$$ x_{norm} = \\frac{ x - x_{min} }{ x_{max} - x_{min} } $$\n",
    "\n",
    "\n",
    "**Temperature Normalization:**\n",
    "$$ T_{norm} = \\frac{ T - T_{inf} }{ T_{wall} - T_{inf} } $$\n",
    "\n",
    "**Temperature De-normalization:**\n",
    "$$ T = T_{norm} \\times ( T_{wall} - T_{inf} ) + T_{inf} $$"
   ]
  },
  {
   "cell_type": "code",
   "execution_count": 4,
   "metadata": {},
   "outputs": [
    {
     "name": "stdout",
     "output_type": "stream",
     "text": [
      "dx    = 0.01 m\n",
      "nodes = 51\n"
     ]
    }
   ],
   "source": [
    "# Given parameters\n",
    "T_wall = 100.0     # left wall temperature [°C]\n",
    "T_inf = 10.0       # ambient temperature [°C]\n",
    "L = 0.5            # rod length [m]\n",
    "k = 400.0          # thermal conductivity [W/m.K]\n",
    "h = 10.0           # convective heat transfer coefficient [W/m^2.K]\n",
    "\n",
    "# Cross-sectional properties (square: 0.01 m x 0.01 m)\n",
    "s   = 0.01      # [m]\n",
    "A   = s**2   # cross-sectional area [m^2]\n",
    "P   = 4*s    # perimeter [m]\n",
    "\n",
    "# Discretization:\n",
    "dx = 0.01 # [m]\n",
    "num_nodes = int(L/dx) + 1\n",
    "\n",
    "# Create the positions as a tensor (shape: [101, 1])\n",
    "x_coord = torch.linspace(0, L, num_nodes, requires_grad=True, device=device).view(-1, 1)\n",
    "X = x_coord\n",
    "\n",
    "print(\"dx    =\", dx, \"m\")\n",
    "print(\"nodes =\", num_nodes)\n",
    "\n"
   ]
  },
  {
   "cell_type": "code",
   "execution_count": 5,
   "metadata": {},
   "outputs": [],
   "source": [
    "########################\n",
    "# # Try have more input features\n",
    "# # - need to change the number of input neurons in network-architecture \n",
    "# # - Did NOT show much improvement\n",
    "########################\n",
    "\n",
    "# # For the constant parameters L and side, create tensors (same shape as x)\n",
    "# L_tensor    = torch.full_like(x_coord, L)\n",
    "# side_tensor = torch.full_like(x_coord, s)\n",
    "\n",
    "# # Concatenate to form the input vector: each row = [x, L, side]\n",
    "# X = torch.cat((x_coord, L_tensor, side_tensor), dim=1)\n",
    "# X.to(device)\n"
   ]
  },
  {
   "cell_type": "markdown",
   "metadata": {},
   "source": [
    "## PINNs"
   ]
  },
  {
   "cell_type": "code",
   "execution_count": 6,
   "metadata": {},
   "outputs": [],
   "source": [
    "# Define the neural network (a simple feed-forward MLP)\n",
    "class PINN(nn.Module):\n",
    "    def __init__(self):\n",
    "        super(PINN, self).__init__()\n",
    "        self.net = nn.Sequential(\n",
    "            nn.Linear(1, 20),\n",
    "            nn.Tanh(),\n",
    "            nn.Linear(20, 20),\n",
    "            nn.Tanh(),\n",
    "            nn.Linear(20, 20),\n",
    "            nn.Tanh(),\n",
    "            nn.Linear(20, 1)\n",
    "        )\n",
    "        \n",
    "    def forward(self, X):\n",
    "        return self.net(X)\n"
   ]
  },
  {
   "cell_type": "markdown",
   "metadata": {},
   "source": [
    "**Weights Initialization**"
   ]
  },
  {
   "cell_type": "code",
   "execution_count": 7,
   "metadata": {},
   "outputs": [],
   "source": [
    "def init_weights(m):\n",
    "    if isinstance(m, nn.Linear):\n",
    "        nn.init.xavier_normal_(m.weight)\n",
    "        if m.bias is not None:\n",
    "            nn.init.zeros_(m.bias)\n"
   ]
  },
  {
   "cell_type": "markdown",
   "metadata": {},
   "source": [
    "## Training"
   ]
  },
  {
   "cell_type": "markdown",
   "metadata": {},
   "source": [
    "**Temperature De-normalization:**\n",
    "$$ T = T_{norm} \\times ( T_{wall} - T_{inf} ) + T_{inf} $$"
   ]
  },
  {
   "cell_type": "code",
   "execution_count": 8,
   "metadata": {},
   "outputs": [
    {
     "name": "stdout",
     "output_type": "stream",
     "text": [
      "#################\n",
      "Epoch 1\n",
      "Total Loss    = 16105.522461\n",
      "loss_left     = 8100.0000\n",
      "loss_interior = 7983.7891\n",
      "loss_right    = 21.7337\n",
      "#################\n",
      "Epoch 5000\n",
      "Total Loss    = 365.664551\n",
      "loss_left     = 66.5346\n",
      "loss_interior = 63.4657\n",
      "loss_right    = 235.6642\n",
      "#################\n",
      "Epoch 10000\n",
      "Total Loss    = 115.582939\n",
      "loss_left     = 1.0943\n",
      "loss_interior = 103.2476\n",
      "loss_right    = 11.2410\n",
      "#################\n",
      "Epoch 15000\n",
      "Total Loss    = 18.121021\n",
      "loss_left     = 0.5496\n",
      "loss_interior = 14.6009\n",
      "loss_right    = 2.9705\n",
      "#################\n",
      "Epoch 20000\n",
      "Total Loss    = 11.380406\n",
      "loss_left     = 0.1450\n",
      "loss_interior = 10.5254\n",
      "loss_right    = 0.7100\n",
      "#################\n",
      "Epoch 25000\n",
      "Total Loss    = 7.609323\n",
      "loss_left     = 0.0630\n",
      "loss_interior = 7.2470\n",
      "loss_right    = 0.2994\n",
      "#################\n"
     ]
    }
   ],
   "source": [
    "# Model Initialization\n",
    "model = PINN().to(device)\n",
    "model.apply(init_weights)\n",
    "\n",
    "# Define the optimizer\n",
    "optimizer = optim.Adam(model.parameters(), lr=1e-2)\n",
    "\n",
    "# Learning-rate decay\n",
    "scheduler = torch.optim.lr_scheduler.StepLR(optimizer, step_size=1000, gamma=0.9)\n",
    "\n",
    "# loss coefficients\n",
    "loss_coeff_1 = 1\n",
    "loss_coeff_2 = 10\n",
    "loss_coeff_3 = 100\n",
    "\n",
    "# Number of training epochs\n",
    "num_epochs = 25000\n",
    "print(\"#\" * 17)\n",
    "for epoch in range(num_epochs):\n",
    "    optimizer.zero_grad()\n",
    "    \n",
    "    # Forward pass: predict T for all collocation points\n",
    "    T_pred_norm = model(X)  # normalize output in range [0, 1]\n",
    "    T_pred      = T_pred_norm*(T_wall - T_inf) + T_inf # de-normalization\n",
    "\n",
    "    # --- Compute derivatives using autograd ---\n",
    "    dTdx = torch.autograd.grad(outputs=T_pred, inputs=x_coord,\n",
    "                           grad_outputs=torch.ones_like(T_pred),\n",
    "                           create_graph=True)[0]\n",
    "    \n",
    "    \n",
    "    d2Tdx2 = torch.autograd.grad(outputs=dTdx, inputs=x_coord,\n",
    "                                grad_outputs=torch.ones_like(dTdx),\n",
    "                                create_graph=True)[0]\n",
    "    \n",
    "    # --- Loss computation ---\n",
    "    # 1. Left boundary:\n",
    "    loss_left = loss_coeff_1 * (T_pred[0] - T_wall)**2\n",
    "    \n",
    "    # 2. Interior points: enforce PDE at interior collocation points (exclude endpoints)\n",
    "    interior        = slice(1, -1)\n",
    "    f_interior      = d2Tdx2[interior] - (h*P / (k*A)) * (T_pred[interior] - T_inf)\n",
    "    loss_interior   = loss_coeff_2 * torch.mean(f_interior**2)\n",
    "    \n",
    "    # 3. Right boundary:\n",
    "    f_right     = k*A*dTdx[-1] + h*A*(T_pred[-1] - T_inf)\n",
    "    loss_right  = loss_coeff_3 * f_right**2\n",
    "    \n",
    "    # Total loss\n",
    "    loss = loss_left + loss_interior + loss_right\n",
    "    loss.backward()\n",
    "    optimizer.step()\n",
    "    \n",
    "    # nly: For learning-rate dacay \n",
    "    # Step the scheduler at the end of the epoch\n",
    "    scheduler.step()\n",
    "\n",
    "    if epoch == 0 or (epoch + 1) % 5000 == 0:\n",
    "        print(f\"Epoch {epoch+1}\")\n",
    "        print(f\"Total Loss    = {loss.item():.6f}\")\n",
    "        print(f\"loss_left     = {loss_left.item():.4f}\")\n",
    "        print(f\"loss_interior = {loss_interior.item():.4f}\")\n",
    "        print(f\"loss_right    = {loss_right.item():.4f}\")\n",
    "        print(\"#\" * 17)\n",
    "\n"
   ]
  },
  {
   "cell_type": "markdown",
   "metadata": {},
   "source": [
    "## Result Visualization"
   ]
  },
  {
   "cell_type": "markdown",
   "metadata": {},
   "source": [
    "**Learning Rate Value:**"
   ]
  },
  {
   "cell_type": "code",
   "execution_count": 9,
   "metadata": {},
   "outputs": [
    {
     "name": "stdout",
     "output_type": "stream",
     "text": [
      "0.0007178979876918532\n"
     ]
    }
   ],
   "source": [
    "print(optimizer.param_groups[0]['lr']) # = 0.01 * 0.9^25\n"
   ]
  },
  {
   "cell_type": "markdown",
   "metadata": {},
   "source": [
    "**Model Prediction**"
   ]
  },
  {
   "cell_type": "code",
   "execution_count": 10,
   "metadata": {},
   "outputs": [
    {
     "name": "stdout",
     "output_type": "stream",
     "text": [
      "Temperature at left boundary  : 99.749 deg C\n",
      "Temperature at right boundary : 44.785 deg C\n"
     ]
    }
   ],
   "source": [
    "# Evaluate the trained model\n",
    "with torch.no_grad():\n",
    "    T_solution_norm = model(X).cpu().numpy().flatten()\n",
    "    T_solution = T_solution_norm*(T_wall - T_inf) + T_inf\n",
    "    x_np = x_coord.cpu().numpy().flatten()\n",
    "\n",
    "print(f'Temperature at left boundary  : {T_solution[0]:.3f} deg C')\n",
    "print(f'Temperature at right boundary : {T_solution[-1]:.3f} deg C')\n"
   ]
  },
  {
   "cell_type": "markdown",
   "metadata": {},
   "source": [
    "## FDM Solution"
   ]
  },
  {
   "cell_type": "code",
   "execution_count": 11,
   "metadata": {},
   "outputs": [
    {
     "name": "stdout",
     "output_type": "stream",
     "text": [
      "T at right boundary : 45.275 deg C\n"
     ]
    }
   ],
   "source": [
    "from utils_HT_1D_FDM import HT_1D_FDM\n",
    "\n",
    "x_fdm, T_fdm = HT_1D_FDM(L, s)\n",
    "print(f'T at right boundary : {T_fdm[-1]:.3f} deg C')\n"
   ]
  },
  {
   "cell_type": "markdown",
   "metadata": {},
   "source": [
    "## Compare PINNs with FDM "
   ]
  },
  {
   "cell_type": "code",
   "execution_count": 12,
   "metadata": {},
   "outputs": [
    {
     "data": {
      "image/png": "[encoded data removed]",
      "text/plain": [
       "<Figure size 600x300 with 1 Axes>"
      ]
     },
     "metadata": {},
     "output_type": "display_data"
    }
   ],
   "source": [
    "# Plot the temperature profile (line plot)\n",
    "plt.figure(figsize=(6, 3))\n",
    "plt.plot(x_fdm, T_fdm, '-k', label='FDM Solution')\n",
    "plt.plot(x_np, T_solution, '.', label='PINN solution')\n",
    "\n",
    "plt.xlabel('x [m]')\n",
    "plt.ylabel('Temperature [°C]')\n",
    "plt.title('Temperature Profile Along the Rod (PINNs)')\n",
    "plt.axis([0, L, T_inf, T_wall])\n",
    "plt.legend()\n",
    "plt.grid(True)\n",
    "plt.show()\n"
   ]
  },
  {
   "cell_type": "code",
   "execution_count": null,
   "metadata": {},
   "outputs": [],
   "source": []
  }
 ],
 "metadata": {
  "kernelspec": {
   "display_name": "test_pinns",
   "language": "python",
   "name": "python3"
  },
  "language_info": {
   "codemirror_mode": {
    "name": "ipython",
    "version": 3
   },
   "file_extension": ".py",
   "mimetype": "text/x-python",
   "name": "python",
   "nbconvert_exporter": "python",
   "pygments_lexer": "ipython3",
   "version": "3.12.0"
  }
 },
 "nbformat": 4,
 "nbformat_minor": 2
}
