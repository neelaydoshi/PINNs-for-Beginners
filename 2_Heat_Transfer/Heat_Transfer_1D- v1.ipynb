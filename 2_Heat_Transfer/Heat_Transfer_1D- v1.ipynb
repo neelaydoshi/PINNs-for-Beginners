{
 "cells": [
  {
   "cell_type": "markdown",
   "metadata": {},
   "source": [
    "# 1D Heat Conduction Using PINNs"
   ]
  },
  {
   "cell_type": "markdown",
   "metadata": {},
   "source": [
    "## Theoretical Background"
   ]
  },
  {
   "cell_type": "markdown",
   "metadata": {},
   "source": [
    "### Problem Statement"
   ]
  },
  {
   "cell_type": "markdown",
   "metadata": {},
   "source": [
    "Let us consider an Aluminum rod of length $L = 0.5 \\ m$, width $w = 1\\ cm$ and thermal conductivity $k = 225 \\ W/m.K$. Since we are considering a 1D heat conduction, we will assume that the rod has unit depth. The left side of the wall is at a constant temperature of $100 \\degree C$ (Dirichlet boundary condition). The top, bottom and right surfaces of the rod are exposed to the air at a temperature of $T_{\\infty} = 10 \\degree C$, with a convective heat transfer coefficient of $h = 25\\ W/m^2.K$. We wish to compute the temperature profile within this rod. We will solve this using a simple PINN model and validate the result using the well know FDM technique. Let us first look into the governing equations and derive the expressions for solving them using FDM and PINNs. \n"
   ]
  },
  {
   "cell_type": "markdown",
   "metadata": {},
   "source": [
    "### Governing Equations"
   ]
  },
  {
   "cell_type": "markdown",
   "metadata": {},
   "source": [
    "#### Left Boundary :\n",
    "As mentioned in the problem statement, we have a simple Dirichlet boundary condition at the left boundary. We will conside the left most cell to be a half cell such that the cell node sits on the left wall. Thus, we have a simple equation:\n",
    "\n",
    "$$\n",
    "\\boxed{\n",
    "\\begin{align}\n",
    "%%\n",
    "\\nonumber T_0 &= T_{wall}\n",
    "%%\n",
    "\\end{align}\n",
    "}\n",
    "$$\n"
   ]
  },
  {
   "cell_type": "markdown",
   "metadata": {},
   "source": [
    "#### Interior Points \n",
    "\n",
    "For any interior point, the energy conservation equations states that the net flow of heat into the cell must be equal to the net flow of heat out of the cell. Heat flow due to conduction is give by Fourier's law: $ \\dot Q_{cond} = -k A \\nabla T $. The heat flow due to convection is given by Newtons law of cooling: $\\dot Q_{conv} = h A (T - T_{\\infty})$. In the given problem statement, for any cell, the heat flowing into the cell is due to conduction, while the outflow is due to both conduction into the next cell and convection to the ambient air. Thus, we can write the energy conservation equation as follows:\n",
    "\n",
    "$$\n",
    "\\begin{align}\n",
    "\\nonumber \\dot Q_{in-cond} &= \\dot Q_{out-cond} + \\dot Q_{out-conv} \\\\[10 pt]\n",
    "%%\n",
    "\\nonumber -k A_{cs} \\frac{dT}{dx} &= -k A_{cs} \\frac{dT}{dx} + 2 h A_s (T_i - T_{\\infty}) \\\\[10 pt]\n",
    "%%\n",
    "\\nonumber - k (w \\times 1) \\left( \\frac{T_i - T_{i-1}}{\\Delta x} \\right) &= - k (w \\times 1) \\left( \\frac{T_{i+1} - T_i}{\\Delta x} \\right) + 2 h (\\Delta x \\times 1) (T_i - T_{\\infty}) \\\\[10 pt]\n",
    "%%\n",
    "\\nonumber k w \\left( \\frac{T_{i-1} - 2 T_i + T_{i+1}}{\\Delta x} \\right) &= 2 h \\Delta x (T_i - T_{\\infty}) \\\\[10pt]\n",
    "%%\n",
    "\\nonumber \\alpha (T_{i-1} - 2 T_i + T_{i+1}) &= 2 \\beta_{1} (T_i - T_{\\infty})\n",
    "%%\n",
    "\\end{align}\n",
    "$$\n",
    "\n",
    "$$\n",
    "\\boxed{\n",
    "\\begin{align}\n",
    "\\nonumber \\alpha T_{i-1} - 2 (\\alpha + \\beta_{1}) T_i + \\alpha T_{i+1} &= - 2 \\beta_{1} T_{\\infty}\n",
    "\\end{align}\n",
    "}\n",
    "$$\n",
    "\n",
    "\n",
    "**Note :** \n",
    "- Our rod is discretized into $N$ cells, wherein the left and right most cells are half cells. Thus we will have a total of $N+1$ nodes: $i \\in [0, N]$. Thus, above equation for interior points corresponds to $i \\in [1, N-1]$. \n",
    "- In the above derivation, $A_{cs}$ represents the cross-sectional area and $A_{s}$ represents the area of the top and bottom surface of a cell. As we are considering 1D flow, we will assume the depth to be unity, thus:\n",
    "    - $A_{cs} = (w \\times 1)$\n",
    "    - $ A_{s} = (\\Delta x \\times 1)$. \n",
    "- For brevity, we will club some of the varibles as:\n",
    "    - $ \\alpha = k w / \\Delta x $\n",
    "    - $ \\beta_{1} = h \\Delta x $\n",
    "    - $ \\beta_{2} = h w $\n"
   ]
  },
  {
   "cell_type": "markdown",
   "metadata": {},
   "source": [
    "#### Right Boundary\n",
    "\n",
    "At the right boundary, we again consider half cell, such that the cell node sits on the right boundary surface. This half cell ($N$) recieves heat through conduction from the previous cell ($N-1$). It loses heat through convection from its top, bottom and right surface. The energy conservation equation is derived below:\n",
    "\n",
    "$$\n",
    "\\begin{align}\n",
    "\\nonumber Q_{in-cond} &= Q_{out-conv-right} + Q_{out-conv-top} + Q_{out-conv-bottom} \\\\[10pt]\n",
    "%%\n",
    "\\nonumber -k A_{cs} \\frac{dT}{dx} &= h A_{cs} (T_N - T_{\\infty}) + h \\frac{A_s}{2} (T_N - T_{\\infty}) + h \\frac{A_s}{2} (T_N - T_{\\infty}) \\\\[10pt]\n",
    "%%\n",
    "\\nonumber -k w \\left( \\frac{T_N - T_{N-1}}{\\Delta x} \\right) &= h w (T_N - T_{\\infty}) + h \\Delta x (T_N - T_{\\infty}) \\\\[10pt]\n",
    "%%\n",
    "\\nonumber -\\alpha ( T_N - T_{N-1} ) &= \\beta_{1}( T_N - T_{\\infty} ) + \\beta_{2}( T_N - T_{\\infty} )\n",
    "%%\n",
    "\\end{align}\n",
    "$$\n",
    "\n",
    "$$\n",
    "\\boxed{\n",
    "\\begin{align}\n",
    "\\nonumber \\alpha T_{N-1} -(\\alpha + \\beta_{1} + \\beta_{2}) T_N &= -(\\beta_{1} + \\beta_{2}) T_{\\infty}\n",
    "%%\n",
    "\\end{align}\n",
    "}\n",
    "$$"
   ]
  },
  {
   "cell_type": "markdown",
   "metadata": {},
   "source": [
    "### Equations for FDM"
   ]
  },
  {
   "cell_type": "markdown",
   "metadata": {},
   "source": [
    "Following are the equations for the left boundary, interior points and right boundary:\n",
    "\n",
    "$$\n",
    "\\boxed{\n",
    "\\begin{align}\n",
    "%%\n",
    "\\nonumber T_0 &= T_{wall} \\\\[10pt]\n",
    "%%\n",
    "\\nonumber \\alpha T_{i-1} - 2 (\\alpha + \\beta_{1}) T_i + \\alpha T_{i+1} &= - 2 \\beta_{1} T_{\\infty} \\ \\ \\ \\text{( $i \\in [1,\\ N-1]$ )} \\\\[10pt]\n",
    "%%\n",
    "\\nonumber \\alpha T_{N-1} -(\\alpha + \\beta_{1} + \\beta_{2}) T_N &= -(\\beta_{1} + \\beta_{2}) T_{\\infty}\n",
    "%%\n",
    "\\end{align}\n",
    "}\n",
    "$$\n",
    "\n",
    "\n",
    "The above system of equations can be written in a matrix format and solved easily:\n",
    "$$ A \\times T = b \\Rightarrow T = A^{-1} b $$ \n",
    "where, \n",
    "- $A$ is a $[N \\times N]$ tridiagonal matrix corresponding to the coefficients of $T_i$ terms. \n",
    "- $b$ is a $[N \\times 1]$ column vector corresopnding to the constants in each equation. \n",
    "- $T$ is the $[N \\times 1]$ solution column vector for the temperatue $T_i$ of all the nodes.  "
   ]
  },
  {
   "cell_type": "markdown",
   "metadata": {},
   "source": [
    "## Import Libraries"
   ]
  },
  {
   "cell_type": "code",
   "execution_count": 1,
   "metadata": {},
   "outputs": [],
   "source": [
    "import random\n",
    "import torch\n",
    "import torch.nn as nn\n",
    "import torch.optim as optim\n",
    "import numpy as np\n",
    "import matplotlib.pyplot as plt\n"
   ]
  },
  {
   "cell_type": "markdown",
   "metadata": {},
   "source": [
    "**Set device to use GPU (if available) :**"
   ]
  },
  {
   "cell_type": "code",
   "execution_count": 2,
   "metadata": {},
   "outputs": [
    {
     "name": "stdout",
     "output_type": "stream",
     "text": [
      "device : cpu\n"
     ]
    }
   ],
   "source": [
    "# # Set device (use GPU if available)\n",
    "# device = torch.device('cuda' if torch.cuda.is_available() else 'cpu')\n",
    "\n",
    "device = torch.device('cpu') # since the network is small, cpu will suffice\n",
    "print(\"device :\", device)\n"
   ]
  },
  {
   "cell_type": "markdown",
   "metadata": {},
   "source": [
    "**Set `random.seed()` for reproducibility :**"
   ]
  },
  {
   "cell_type": "code",
   "execution_count": 3,
   "metadata": {},
   "outputs": [
    {
     "name": "stdout",
     "output_type": "stream",
     "text": [
      "torch.cuda.manual_seed_all set to : 42\n"
     ]
    }
   ],
   "source": [
    "seed = 42\n",
    "random.seed(seed)\n",
    "np.random.seed(seed)\n",
    "torch.manual_seed(seed)\n",
    "if torch.cuda.is_available():\n",
    "    torch.cuda.manual_seed_all(seed)\n",
    "    print(f\"torch.cuda.manual_seed_all set to : {seed}\")\n"
   ]
  },
  {
   "cell_type": "markdown",
   "metadata": {},
   "source": [
    "## Parameter Initialization"
   ]
  },
  {
   "cell_type": "code",
   "execution_count": 4,
   "metadata": {},
   "outputs": [],
   "source": [
    "# Given parameters\n",
    "T_wall  = 100.0     # left wall temperature [°C]\n",
    "T_inf   = 10.0      # ambient temperature [°C]\n",
    "L       = 0.5       # rod length [m]\n",
    "k       = 225.0     # thermal conductivity [W/m.K]\n",
    "h       = 25.0      # convective heat transfer coefficient [W/m^2.K]\n",
    "w       = 0.01      # width of rod [m]\n",
    "dx      = 0.01      # [m]\n"
   ]
  },
  {
   "cell_type": "markdown",
   "metadata": {},
   "source": [
    "## FDM Solution"
   ]
  },
  {
   "cell_type": "markdown",
   "metadata": {},
   "source": [
    "A custom function called `heat_transfer_1D_FDM()` has been created for computing the temperature profile in the rod using FDM, as per the equations derived. You can find the function in `utils_HT_1D_FDM.py`. "
   ]
  },
  {
   "cell_type": "code",
   "execution_count": 5,
   "metadata": {},
   "outputs": [
    {
     "name": "stdout",
     "output_type": "stream",
     "text": [
      "Temperature at right boundary : 26.52 deg C\n"
     ]
    }
   ],
   "source": [
    "from utils_HT_1D_FDM_v1 import heat_transfer_1D_FDM\n",
    "\n",
    "x_fdm, T_fdm = heat_transfer_1D_FDM(T_wall, T_inf, k, h, L, w, dx)\n",
    "\n",
    "print(f'Temperature at right boundary : {T_fdm[-1]:.2f} deg C')\n"
   ]
  },
  {
   "cell_type": "code",
   "execution_count": 6,
   "metadata": {},
   "outputs": [
    {
     "data": {
      "image/png": "[encoded data removed]",
      "text/plain": [
       "<Figure size 600x300 with 1 Axes>"
      ]
     },
     "metadata": {},
     "output_type": "display_data"
    }
   ],
   "source": [
    "# Plot the temperature profile (line plot)\n",
    "plt.figure(figsize=(6, 3))\n",
    "plt.plot(x_fdm, T_fdm, '-k', label='FDM Solution')\n",
    "\n",
    "plt.xlabel('x [m]')\n",
    "plt.ylabel('Temperature [°C]')\n",
    "plt.title('Temperature Profile Along the Rod (PINNs)')\n",
    "plt.axis([0, L, 0, T_wall])\n",
    "plt.legend()\n",
    "plt.grid(True)\n",
    "plt.show()\n"
   ]
  },
  {
   "cell_type": "markdown",
   "metadata": {},
   "source": [
    "## PINN Solution"
   ]
  },
  {
   "cell_type": "markdown",
   "metadata": {},
   "source": [
    "### Generate Inputs for Training"
   ]
  },
  {
   "cell_type": "markdown",
   "metadata": {},
   "source": [
    "We will use 51 uniformly distributed points along the length of the rod for training the PINN. It is generally a good idea to normalize the inputs of a neural network as it aids in training. We will use simple *min-max normalization* to normalize our input $x$ in the range $[0,\\ 1]$:\n",
    "$$ x_{norm} = \\frac{x - x_{min}}{x_{max} - x_{min}} $$\n"
   ]
  },
  {
   "cell_type": "code",
   "execution_count": 7,
   "metadata": {},
   "outputs": [],
   "source": [
    "# Number of points for training\n",
    "num_nodes   = 51\n",
    "\n",
    "# Create the positions as a tensor\n",
    "x_coord     = torch.linspace(0, L, num_nodes, requires_grad=True, device=device).view(-1, 1)\n",
    "\n",
    "# Normalization\n",
    "x_min = min(x_coord)\n",
    "x_max = max(x_coord)\n",
    "x_coord_norm    = (x_coord - x_min) / (x_max - x_min)\n",
    "\n",
    "# Input to PINN\n",
    "X = x_coord\n",
    "# X   = x_coord_norm\n"
   ]
  },
  {
   "cell_type": "markdown",
   "metadata": {},
   "source": [
    "### `Class` Definition for PINN Model "
   ]
  },
  {
   "cell_type": "markdown",
   "metadata": {},
   "source": [
    "We will consider a vanilla neural network with following architecture:\n",
    "\n",
    "**Model inputs :**\n",
    "- `x_norm` : normalized position along the rod of length `L` : normalized in range [0, 1];\n",
    "\n",
    "**Hidden Layers :**\n",
    "- `3` layers; `20` neurons each; `Tanh()` activation; \n",
    "\n",
    "**Model output :**\n",
    "- `T_norm` : temperature of the rod at location `x` : normalized in range [0, 1];\n"
   ]
  },
  {
   "cell_type": "code",
   "execution_count": 8,
   "metadata": {},
   "outputs": [],
   "source": [
    "# Define the neural network (a simple feed-forward MLP)\n",
    "class PINN(nn.Module):\n",
    "    def __init__(self):\n",
    "        super(PINN, self).__init__()\n",
    "        self.net = nn.Sequential(\n",
    "            nn.Linear(1, 20),\n",
    "            nn.Tanh(),\n",
    "            nn.Linear(20, 20),\n",
    "            nn.Tanh(),\n",
    "            nn.Linear(20, 20),\n",
    "            nn.Tanh(),\n",
    "            nn.Linear(20, 1)\n",
    "        )\n",
    "        \n",
    "    def forward(self, X):\n",
    "        return self.net(X)\n"
   ]
  },
  {
   "cell_type": "markdown",
   "metadata": {},
   "source": [
    "**Note :**\n",
    "\n",
    "Using smooth activations like `Tanh` is common in PINNs because they yield smooth derivatives, which is important when computing higher-order derivatives for the PDE residual. `ReLU`, while popular in many applications, has a non-differentiable point at zero and can yield zero gradients in some regions; this might hinder training when the network needs to produce accurate second derivatives."
   ]
  },
  {
   "cell_type": "markdown",
   "metadata": {},
   "source": [
    "### `Function` for Weight Initialization of PINN Model"
   ]
  },
  {
   "cell_type": "markdown",
   "metadata": {},
   "source": [
    "**Xavier normal initialization :** \n",
    "\n",
    "It is a weight initialization technique for neural networks that uses a normal distribution to draw weights. It aims to maintain a consistent variance of activations across layers, helping prevent vanishing or exploding gradients, particularly when using sigmoid or tanh activation functions. The weights are sampled from a normal distribution with a mean of 0 and a standard deviation determined by the number of input and output neurons in the layer. \n"
   ]
  },
  {
   "cell_type": "code",
   "execution_count": 9,
   "metadata": {},
   "outputs": [],
   "source": [
    "# Function for \"Xavier normal initialization\"\n",
    "def init_weights(m):\n",
    "    if isinstance(m, nn.Linear):\n",
    "        nn.init.xavier_normal_(m.weight)\n",
    "        if m.bias is not None:\n",
    "            nn.init.zeros_(m.bias)\n"
   ]
  },
  {
   "cell_type": "markdown",
   "metadata": {},
   "source": [
    "### Equations for PINNs Loss Function"
   ]
  },
  {
   "cell_type": "markdown",
   "metadata": {},
   "source": [
    "One of the advantage of PINNs is the ability to solve the governing equations without the tedious process of discretization. This is possible because we can obtain the derivatives directly using the *automatic differentiation* ability of PyTorch using it's `torch.autograd` package. \n",
    "\n",
    "Now, the equations for left boundary point can be used directly as a loss function, but the equation for the interior points and right boundary need some manipulation."
   ]
  },
  {
   "cell_type": "markdown",
   "metadata": {},
   "source": [
    "#### Manipulation of Interior Points Equation\n",
    "\n",
    " Let us reconsider the equation interior points. Following is the equation taken from an intermediate step of its derivation (see in \"Interior Points\" section):\n",
    "\n",
    "$$\n",
    "\\begin{align}\n",
    "\\nonumber k w \\left( \\frac{T_{i-1} - 2 T_i + T_{i+1}}{\\Delta x} \\right) &= 2 h \\Delta x (T_i - T_{\\infty}) \\\\[10pt]\n",
    "%%\n",
    "\\nonumber k w \\left( \\frac{T_{i-1} - 2 T_i + T_{i+1}}{\\Delta x^2} \\right) &= 2 h (T_i - T_{\\infty}) \\\\[10pt]\n",
    "%%\n",
    "\\nonumber k w \\frac{d^2 T_i}{d x^2} &= 2 h (T_i - T_{\\infty})\n",
    "%%\n",
    "\\end{align}\n",
    "$$\n",
    "\n",
    "$$\n",
    "\\boxed{\n",
    "k w \\frac{d^2 T_i}{d x^2} - 2 h (T_i - T_{\\infty}) = 0\n",
    "}\n",
    "$$\n",
    "\n",
    "Basically, the conductions terms on the LHS and RHS can be combined to yield second order derivative of temperature. This is similar to Laplase equation for heat conduction (wihout converction): $\\nabla^2 T = 0$. Since we have convection occuring in the top and bottom walls, the convective term appears in the equation.\n"
   ]
  },
  {
   "cell_type": "markdown",
   "metadata": {},
   "source": [
    "#### Manipulation of Right Boundary Point Equation\n",
    "Since PINNs allows us to use the differential equation itself, without having the need to discretize, so we can consider $\\Delta x \\rightarrow 0$ and simplify the equation for right boundary point to:\n",
    "\n",
    "$$\n",
    "\\boxed{\n",
    "k \\frac{dT_N}{dx} + h (T_N - T_{\\infty}) = 0\n",
    "}\n",
    "$$\n",
    "\n",
    "Since we are considering the actual differential equation, we do not need to create cells of finite size. Thus the convection occuring from the top and bottom surface does not need to be consider, and as such, those term vanish from the above equation. \n"
   ]
  },
  {
   "cell_type": "markdown",
   "metadata": {},
   "source": [
    "#### Loss Function :\n",
    "\n",
    "Now that we have all the equations, we can define the loss function for our PINNs:\n",
    "- Left Boundary Loss: \n",
    "    - $ loss_1 = [ T_0 - T_{wall} ]^2 $\n",
    "\n",
    "- Interior Points Loss:\n",
    "    - $ \\displaystyle{ loss_2 = MSE \\left[ k w \\frac{d^2 T_i}{d x^2} - 2 h (T_i - T_{\\infty}) \\right] }$\n",
    "\n",
    "- Right Boundary Loss:\n",
    "    - $ \\displaystyle{ loss_3 = \\left[ k \\frac{dT_N}{dx} + h (T_N - T_{\\infty}) \\right]^2 } $\n"
   ]
  },
  {
   "cell_type": "markdown",
   "metadata": {},
   "source": [
    "## Training"
   ]
  },
  {
   "cell_type": "markdown",
   "metadata": {},
   "source": [
    "### Some Theory"
   ]
  },
  {
   "cell_type": "markdown",
   "metadata": {},
   "source": [
    "**Temperature De-normalization:** <br>\n",
    "We will expect the PINN model to output a normalized temperature in the range $[0,\\ 1]$. This will reduce training time and errors. We will consider $T_{max} = T_{wall}$ and $T_{min} = T_{\\infty}$. Thus, we can de-normalize the output as follows:\n",
    "$$ T = T_{norm} \\times ( T_{wall} - T_{\\infty} ) + T_{\\infty} $$\n",
    "\n",
    "\n",
    "**Learning Rate Decay :** <br>\n",
    "Using large value of learning rate can help reach the minima faster. But too large a value will prevent it from converging. Thus we use learning rate decay. The value of the initial learning rate is $lr = 0.01$ and the decay rate is $\\gamma = 0.9$. Learning rate is updated after every $1000$ steps. We train the model for $25000$ epochs.\n",
    "\n",
    "**Loss Coefficients :** <br>\n",
    "The magnitude of the three losses vary significantly. Thus, we multiply each of them with a coefficient `coeff_i` and then add them up for computing the total loss. This total loss is then used for backpropagated. The values of `coeff_i` have been found through trial and error.\n"
   ]
  },
  {
   "cell_type": "markdown",
   "metadata": {},
   "source": [
    "### Training Loop"
   ]
  },
  {
   "cell_type": "code",
   "execution_count": 10,
   "metadata": {},
   "outputs": [
    {
     "name": "stdout",
     "output_type": "stream",
     "text": [
      "#################\n",
      "Epoch 1\n",
      "Total Loss    = 84664.3750\n",
      "Loss Left     = 8100.0000\n",
      "Loss Interior = 2186.3040\n",
      "Loss Right    = 74378.0703\n",
      "#################\n",
      "Epoch 5000\n",
      "Total Loss    = 242.4380\n",
      "Loss Left     = 29.1651\n",
      "Loss Interior = 211.6310\n",
      "Loss Right    = 1.6419\n",
      "#################\n",
      "Epoch 10000\n",
      "Total Loss    = 3879.7974\n",
      "Loss Left     = 0.0229\n",
      "Loss Interior = 1583.1984\n",
      "Loss Right    = 2296.5759\n",
      "#################\n",
      "Epoch 15000\n",
      "Total Loss    = 21.4843\n",
      "Loss Left     = 0.0548\n",
      "Loss Interior = 21.4247\n",
      "Loss Right    = 0.0048\n",
      "#################\n",
      "Epoch 20000\n",
      "Total Loss    = 13.6750\n",
      "Loss Left     = 0.0559\n",
      "Loss Interior = 13.6148\n",
      "Loss Right    = 0.0043\n",
      "#################\n",
      "Epoch 25000\n",
      "Total Loss    = 11.1822\n",
      "Loss Left     = 0.0530\n",
      "Loss Interior = 11.1292\n",
      "Loss Right    = 0.0000\n",
      "#################\n"
     ]
    }
   ],
   "source": [
    "# Model Initialization\n",
    "model = PINN().to(device)\n",
    "model.apply(init_weights)\n",
    "\n",
    "# Define the optimizer\n",
    "optimizer = optim.Adam(model.parameters(), lr=1e-2)\n",
    "\n",
    "# Learning-rate decay\n",
    "scheduler = torch.optim.lr_scheduler.StepLR(optimizer, step_size=1000, gamma=0.9)\n",
    "\n",
    "# oLss coefficients\n",
    "coeff_1 = 1\n",
    "coeff_2 = 0.1\n",
    "coeff_3 = 0.01\n",
    "\n",
    "# Number of training epochs\n",
    "num_epochs = 25000\n",
    "\n",
    "# Model training\n",
    "print(\"#\" * 17)\n",
    "for epoch in range(num_epochs):\n",
    "    optimizer.zero_grad()\n",
    "    \n",
    "    # Forward pass: predict T for all collocation points\n",
    "    T_pred_norm = model(X)  # normalize output in range [0, 1]\n",
    "    T_pred      = T_pred_norm*(T_wall - T_inf) + T_inf # de-normalization\n",
    "\n",
    "    # --- Compute derivatives using autograd ---\n",
    "    dTdx = torch.autograd.grad(outputs=T_pred, inputs=x_coord,\n",
    "                           grad_outputs=torch.ones_like(T_pred),\n",
    "                           create_graph=True)[0]\n",
    "    \n",
    "    \n",
    "    d2Tdx2 = torch.autograd.grad(outputs=dTdx, inputs=x_coord,\n",
    "                                grad_outputs=torch.ones_like(dTdx),\n",
    "                                create_graph=True)[0]\n",
    "    \n",
    "    # --- Loss computation ---\n",
    "    # 1. Left boundary:\n",
    "    f_left = T_pred[0] - T_wall\n",
    "    loss_left = coeff_1 * f_left**2\n",
    "\n",
    "    # 2. Interior points: enforce PDE at interior collocation points (exclude endpoints)\n",
    "    interior        = slice(1, -1)\n",
    "    f_interior      = k*w*d2Tdx2[interior] - 2*h*(T_pred[interior] - T_inf)\n",
    "    loss_interior   = coeff_2 * torch.mean(f_interior**2)\n",
    "    \n",
    "    # 3. Right boundary:\n",
    "    f_right     = k*dTdx[-1] + h*(T_pred[-1] - T_inf)\n",
    "    loss_right  = coeff_3 * f_right**2\n",
    "    \n",
    "    # Total loss\n",
    "    loss_total = loss_left + loss_interior + loss_right\n",
    "    loss_total.backward()\n",
    "    optimizer.step()\n",
    "     \n",
    "    # Step the scheduler at the end of the epoch (for learning-rate dacay)\n",
    "    scheduler.step()\n",
    "\n",
    "    # Print loss for viewing progress\n",
    "    if epoch == 0 or (epoch + 1) % 5000 == 0:\n",
    "        print(f\"Epoch {epoch+1}\")\n",
    "        print(f\"Total Loss    = {loss_total.item():.4f}\")\n",
    "        print(f\"Loss Left     = {loss_left.item():.4f}\")\n",
    "        print(f\"Loss Interior = {loss_interior.item():.4f}\")\n",
    "        print(f\"Loss Right    = {loss_right.item():.4f}\")\n",
    "        print(\"#\" * 17)\n"
   ]
  },
  {
   "cell_type": "markdown",
   "metadata": {},
   "source": [
    "## Result and Visualization"
   ]
  },
  {
   "cell_type": "markdown",
   "metadata": {},
   "source": [
    "### PINN Model Prediction vs FDM Solution"
   ]
  },
  {
   "cell_type": "markdown",
   "metadata": {},
   "source": [
    "**PINN Model Prediction**"
   ]
  },
  {
   "cell_type": "code",
   "execution_count": 11,
   "metadata": {},
   "outputs": [
    {
     "name": "stdout",
     "output_type": "stream",
     "text": [
      "Temperature at left boundary  : 99.77 deg C\n",
      "Temperature at right boundary : 26.50 deg C\n"
     ]
    }
   ],
   "source": [
    "# Evaluate the trained model\n",
    "with torch.no_grad():\n",
    "    T_solution_norm = model(X).cpu().numpy().flatten()\n",
    "    T_solution = T_solution_norm*(T_wall - T_inf) + T_inf\n",
    "    x_np = x_coord.cpu().numpy().flatten()\n",
    "\n",
    "print(f'Temperature at left boundary  : {T_solution[0]:.2f} deg C')\n",
    "print(f'Temperature at right boundary : {T_solution[-1]:.2f} deg C')\n"
   ]
  },
  {
   "cell_type": "markdown",
   "metadata": {},
   "source": [
    "**FDM Solution**"
   ]
  },
  {
   "cell_type": "code",
   "execution_count": 12,
   "metadata": {},
   "outputs": [
    {
     "name": "stdout",
     "output_type": "stream",
     "text": [
      "Temperature at right boundary : 100.00 deg C\n",
      "Temperature at right boundary : 26.52 deg C\n"
     ]
    }
   ],
   "source": [
    "# Import function\n",
    "from utils_HT_1D_FDM_v1 import heat_transfer_1D_FDM\n",
    "\n",
    "x_fdm, T_fdm = heat_transfer_1D_FDM(T_wall, T_inf, k, h, L, w, dx)\n",
    "\n",
    "print(f'Temperature at right boundary : {T_fdm[0]:.2f} deg C')\n",
    "print(f'Temperature at right boundary : {T_fdm[-1]:.2f} deg C')\n"
   ]
  },
  {
   "cell_type": "markdown",
   "metadata": {},
   "source": [
    "### Visualization"
   ]
  },
  {
   "cell_type": "code",
   "execution_count": 13,
   "metadata": {},
   "outputs": [
    {
     "data": {
      "image/png": "[encoded data removed]",
      "text/plain": [
       "<Figure size 600x300 with 1 Axes>"
      ]
     },
     "metadata": {},
     "output_type": "display_data"
    }
   ],
   "source": [
    "# Plot the temperature profile (line plot)\n",
    "plt.figure(figsize=(6, 3))\n",
    "plt.plot(x_fdm, T_fdm, '-k', label='FDM Solution')\n",
    "plt.plot(x_np, T_solution, '.', label='PINN solution')\n",
    "\n",
    "plt.xlabel('x [m]')\n",
    "plt.ylabel('Temperature [°C]')\n",
    "plt.title('Temperature Profile Along the Rod (PINNs)')\n",
    "plt.axis([0, L, 0, T_wall])\n",
    "plt.legend()\n",
    "plt.grid(True)\n",
    "plt.show()\n"
   ]
  },
  {
   "cell_type": "code",
   "execution_count": null,
   "metadata": {},
   "outputs": [],
   "source": []
  }
 ],
 "metadata": {
  "kernelspec": {
   "display_name": "test_pinns",
   "language": "python",
   "name": "python3"
  },
  "language_info": {
   "codemirror_mode": {
    "name": "ipython",
    "version": 3
   },
   "file_extension": ".py",
   "mimetype": "text/x-python",
   "name": "python",
   "nbconvert_exporter": "python",
   "pygments_lexer": "ipython3",
   "version": "3.12.0"
  }
 },
 "nbformat": 4,
 "nbformat_minor": 2
}
