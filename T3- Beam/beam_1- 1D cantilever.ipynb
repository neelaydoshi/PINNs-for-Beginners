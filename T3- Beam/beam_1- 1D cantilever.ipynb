{
 "cells": [
  {
   "cell_type": "markdown",
   "id": "33c5d2f0",
   "metadata": {},
   "source": [
    "# Bending of 1D Cantilever Beam Under Point Load"
   ]
  },
  {
   "cell_type": "markdown",
   "id": "a1c25c0c",
   "metadata": {},
   "source": [
    "## Problem Statement"
   ]
  },
  {
   "cell_type": "markdown",
   "id": "8bcb61e0",
   "metadata": {},
   "source": [
    "Let us consider a problem similar to the [Euler Beam](https://deepxde.readthedocs.io/en/latest/demos/pinn_forward/eulerbeam.html) example given in DeepXDE documentation. We will consider a simple 1D cantilever beam of length $L = 1\\ m$, that is fixed at the left end and free at the right end. The width and height of the beam are equal : $h = b = 0.1\\ m$. Thus its second moment of area is given by : $I = bh^3/12$. A force $P = 100\\ kN$ is applied in the downlward direction at the free end. The Young's modulus of elasitcity of the beam is $ E = 200\\ GPa$. The deflection in the $y$ direction is denoted by the symbol $u$. The governing equations and the boundary conditions are given in the next section."
   ]
  },
  {
   "cell_type": "markdown",
   "id": "d6fe5521",
   "metadata": {},
   "source": [
    "## Governing Equation"
   ]
  },
  {
   "cell_type": "markdown",
   "id": "ef8168ae",
   "metadata": {},
   "source": [
    "**Governing ODE (for $x \\in [0, L]$):**\n",
    "- $d^4 u/dx^4 = 0$\n",
    "\n",
    "**Left B.C (at $x = 0$) :**\n",
    "- $u = 0$\n",
    "- $d u/dx = 0$\n",
    "\n",
    "**Right B.C (at $x = L$) :**\n",
    "- $ d^2 u/dx^2 = 0 $\n",
    "- $ d^3 u/dx^3 + P/(EI) = 0 $\n"
   ]
  },
  {
   "cell_type": "markdown",
   "id": "de457f72",
   "metadata": {},
   "source": [
    "## Import Libraries"
   ]
  },
  {
   "cell_type": "code",
   "execution_count": 1,
   "id": "2116cd9a",
   "metadata": {},
   "outputs": [
    {
     "name": "stderr",
     "output_type": "stream",
     "text": [
      "Using backend: pytorch\n",
      "Other supported backends: tensorflow.compat.v1, tensorflow, jax, paddle.\n",
      "paddle supports more examples now and is recommended.\n"
     ]
    }
   ],
   "source": [
    "import torch\n",
    "import deepxde as dde\n",
    "import numpy as np\n",
    "import tensorflow as tf\n",
    "\n",
    "# Set backend to PyTorch and use CPU\n",
    "dde.backend.backend_name = \"pytorch\"\n",
    "\n",
    "# Set seed for reproducibility  \n",
    "dde.config.set_random_seed(42)  \n"
   ]
  },
  {
   "cell_type": "markdown",
   "id": "850ab1d2",
   "metadata": {},
   "source": [
    "## Set Device: CPU or GPU"
   ]
  },
  {
   "cell_type": "markdown",
   "id": "8acb55b3",
   "metadata": {},
   "source": [
    "**Check if GPU is available**"
   ]
  },
  {
   "cell_type": "code",
   "execution_count": 2,
   "id": "c5d1ff76",
   "metadata": {},
   "outputs": [
    {
     "name": "stdout",
     "output_type": "stream",
     "text": [
      "#################\n",
      "CUDA available: True\n",
      "Default CUDA device: 0\n",
      "Device name: NVIDIA RTX 2000 Ada Generation Laptop GPU\n",
      "#################\n",
      "GPU available for DeepXDE: True\n",
      "#################\n"
     ]
    }
   ],
   "source": [
    "# Check if GPU is available\n",
    "print(\"#\"*17)\n",
    "print(\"CUDA available:\", torch.cuda.is_available())\n",
    "print(\"Default CUDA device:\", torch.cuda.current_device())\n",
    "print(\"Device name:\", torch.cuda.get_device_name(torch.cuda.current_device()))\n",
    "print(\"#\"*17)\n",
    "\n",
    "# Check if GPU is available for DeepXDE\n",
    "print(f\"GPU available for DeepXDE: {dde.backend.is_gpu_available()}\")\n",
    "print(\"#\"*17)\n"
   ]
  },
  {
   "cell_type": "markdown",
   "id": "d8aa8ce0",
   "metadata": {},
   "source": [
    "**Select device for running the neural network**\n",
    "\n",
    "(Since our network is small, using CPU be faster)."
   ]
  },
  {
   "cell_type": "code",
   "execution_count": 3,
   "id": "ced84dfc",
   "metadata": {},
   "outputs": [
    {
     "name": "stdout",
     "output_type": "stream",
     "text": [
      "#################\n",
      "PyTorch tensors stored in : cpu\n",
      "#################\n"
     ]
    }
   ],
   "source": [
    "# Select device for computation\n",
    "device = \"cpu\" # must be set for both PyTroch and DeepXDE (\"net\" variable of DeepXDE)\n",
    "\n",
    "# Create dummy tensor for testing\n",
    "torch.set_default_device(device)\n",
    "a = torch.tensor([1.0, 2.0])\n",
    "\n",
    "print(\"#\"*17)\n",
    "print(\"PyTorch tensors stored in :\", a.device)  # Should show: cuda:0\n",
    "print(\"#\"*17)\n"
   ]
  },
  {
   "cell_type": "markdown",
   "id": "bdb9a851",
   "metadata": {},
   "source": [
    "## Parameters and Geometry"
   ]
  },
  {
   "cell_type": "code",
   "execution_count": 4,
   "id": "7f27ba0d",
   "metadata": {},
   "outputs": [
    {
     "name": "stdout",
     "output_type": "stream",
     "text": [
      "P/(E.I) = -0.060\n"
     ]
    }
   ],
   "source": [
    "##############\n",
    "# Parameters\n",
    "L   = 1.0       # lenght of beam [in m]\n",
    "h   = 0.1       # height of beam [in m]\n",
    "b   = 0.1       # width of beam [in m]\n",
    "E   = 200e9     # Youngs Modulus of elasticity [in Pa]\n",
    "P   = -100e3    # force [in N]\n",
    "I   = b*h**3/12 # moment of inertia (bending in y-direction) [in m^4]\n",
    "\n",
    "##############\n",
    "# Check the order of \"P/EI\" term\n",
    "print(f\"P/(E.I) = {P/(E*I):.3f}\")\n",
    "\n",
    "##############\n",
    "# Geometry\n",
    "geom = dde.geometry.Interval(0, L)\n"
   ]
  },
  {
   "cell_type": "markdown",
   "id": "19d6e7b2",
   "metadata": {},
   "source": [
    "## Normalization Params"
   ]
  },
  {
   "cell_type": "markdown",
   "id": "d0ba0471",
   "metadata": {},
   "source": [
    "It is best to normalized the equations because neural-networks are not very good at predicting very large or very small numbers."
   ]
  },
  {
   "cell_type": "markdown",
   "id": "580b1891",
   "metadata": {},
   "source": [
    "**Max-Normalization :**\n",
    "$$ \\hat{u} = \\frac{u}{u_{max}} $$"
   ]
  },
  {
   "cell_type": "markdown",
   "id": "9349a0f9",
   "metadata": {},
   "source": [
    "**Maximum deflection in 1D beam (analytical solution) :**\n",
    "\n",
    "$$ u_{max} = \\frac{P L^3}{3 E I} $$\n"
   ]
  },
  {
   "cell_type": "code",
   "execution_count": 5,
   "id": "48f303bf",
   "metadata": {},
   "outputs": [
    {
     "name": "stdout",
     "output_type": "stream",
     "text": [
      "uy_max_exact  = -0.020 m\n",
      "uy_max for normalization = 0.100 m\n"
     ]
    }
   ],
   "source": [
    "# Maximum deflection analytical solution\n",
    "uy_max_exact = P*L**3 / (3*E*I)\n",
    "print(f\"uy_max_exact  = {uy_max_exact:.3f} m\")\n",
    "\n",
    "# Normalization value (higher than analytical solution)\n",
    "uy_max = 0.1 # in m\n",
    "print(f\"uy_max for normalization = {uy_max:.3f} m\")"
   ]
  },
  {
   "cell_type": "markdown",
   "id": "78d7b3f8",
   "metadata": {},
   "source": [
    "## Exact Solution"
   ]
  },
  {
   "cell_type": "markdown",
   "id": "70e3e6c8",
   "metadata": {},
   "source": [
    "**Analytical solution for deflection in 1D beam :**\n",
    "\n",
    "$$ u(x) = \\frac{P x^2}{6EI} (3L - x) $$\n"
   ]
  },
  {
   "cell_type": "code",
   "execution_count": 6,
   "id": "f8d07916",
   "metadata": {},
   "outputs": [],
   "source": [
    "# exact solution (normalized)\n",
    "def func_exact_solution(x):\n",
    "    uy = P*x**2 * (3*L - x) / (6*E*I)\n",
    "    uy_norm = uy/uy_max\n",
    "    return uy_norm\n"
   ]
  },
  {
   "cell_type": "markdown",
   "id": "156ea1c3",
   "metadata": {},
   "source": [
    "## Governing ODE"
   ]
  },
  {
   "cell_type": "markdown",
   "id": "ae3235e7",
   "metadata": {},
   "source": [
    "**Normalized Governing ODE (for $x \\in [0, L]$):**\n",
    "\n",
    "Substitute $u = \\hat{u} \\cdot u_{max}$ in the original governing ODE:\n",
    "\n",
    "- $d^4 \\hat{u}/dx^4 = 0$\n"
   ]
  },
  {
   "cell_type": "code",
   "execution_count": null,
   "id": "98324aec",
   "metadata": {},
   "outputs": [],
   "source": [
    "##############\n",
    "# PDE definition\n",
    "def pde(x, y):\n",
    "    d2y_dx2 = dde.grad.hessian(y, x, i=0, j=0)\n",
    "    d4y_dx4 = dde.grad.hessian(d2y_dx2, x, i=0, j=0)\n",
    "    residual = d4y_dx4\n",
    "    return residual\n"
   ]
  },
  {
   "cell_type": "markdown",
   "id": "46bf075b",
   "metadata": {},
   "source": [
    "## Boundary Conditions"
   ]
  },
  {
   "cell_type": "markdown",
   "id": "b5df6674",
   "metadata": {},
   "source": [
    "Substitute $u = \\hat{u} \\cdot u_{max}$ in the original B.C equations:\n",
    "\n",
    "**Normalized Left B.C (at $x = 0$) :**\n",
    "- $\\hat{u} = 0$\n",
    "- $d \\hat{u}/dx = 0$\n",
    "\n",
    "**Normalized Right B.C (at $x = L$) :**\n",
    "- $ d^2 \\hat{u}/dx^2 = 0 $\n",
    "- $ u_{max} \\cdot d^3 \\hat{u}/dx^3 + P/(EI) = 0 $"
   ]
  },
  {
   "cell_type": "code",
   "execution_count": 8,
   "id": "89b0114d",
   "metadata": {},
   "outputs": [],
   "source": [
    "##############\n",
    "# Derivative functions\n",
    "def func_d2y_dx2(x, y):\n",
    "    d2y_dx2 = dde.grad.hessian(y, x, i=0, j=0)\n",
    "    return d2y_dx2\n",
    "\n",
    "def func_d3y_dx3(x, y):\n",
    "    d2y_dx2 = func_d2y_dx2(x, y)\n",
    "    d3y_dx3 = dde.grad.jacobian(d2y_dx2, x, i=0, j=0)\n",
    "    return d3y_dx3\n",
    "\n",
    "##############\n",
    "# Right boundary (x = L)\n",
    "def boundary_right(x, on_boundary):\n",
    "    return on_boundary and np.isclose(x[0], L)\n",
    "\n",
    "##############\n",
    "# Left boundary (x = 0)\n",
    "def boundary_left(x, on_boundary):\n",
    "    return on_boundary and np.isclose(x[0], 0.0)\n",
    "\n",
    "##############\n",
    "# left boundary\n",
    "bc_left_d = dde.icbc.DirichletBC(geom, lambda x: 0.0, boundary_left) # y = 0\n",
    "bc_left_n = dde.icbc.NeumannBC(geom, lambda x: 0.0, boundary_left) # dy_dx = 0\n",
    "\n",
    "##############\n",
    "# right boundary\n",
    "bc_right_o_d2y = dde.icbc.OperatorBC(geom, lambda x, y, _ : ( func_d2y_dx2(x, y) ), boundary_right) # d2y_dx^2 = 0\n",
    "bc_right_o_d3y = dde.icbc.OperatorBC(geom, lambda x, y, _ : ( uy_max*func_d3y_dx3(x, y) + P/(E*I) ), boundary_right) # d3y_dx3 + P/(E*I) = 0\n",
    "\n"
   ]
  },
  {
   "cell_type": "markdown",
   "id": "ddbd044f",
   "metadata": {},
   "source": [
    "## Network Setup"
   ]
  },
  {
   "cell_type": "code",
   "execution_count": 9,
   "id": "fa8d53d3",
   "metadata": {},
   "outputs": [
    {
     "name": "stdout",
     "output_type": "stream",
     "text": [
      "DeepXDE network is on : cpu\n"
     ]
    }
   ],
   "source": [
    "##############\n",
    "# Define the data\n",
    "data = dde.data.PDE(geom, pde, \n",
    "                    [bc_left_d, bc_left_n, bc_right_o_d2y, bc_right_o_d3y], \n",
    "                    num_domain=64, num_boundary=16,\n",
    "                    solution=func_exact_solution,\n",
    "                    num_test=100)\n",
    "\n",
    "##############\n",
    "# Neural network\n",
    "net = dde.nn.FNN([1] + [20]*3 + [1], \"tanh\", \"Glorot uniform\")\n",
    "net.to(device)\n",
    "print(\"DeepXDE network is on :\", next(net.parameters()).device)\n"
   ]
  },
  {
   "cell_type": "markdown",
   "id": "a73e39be",
   "metadata": {},
   "source": [
    "## Run Model"
   ]
  },
  {
   "cell_type": "markdown",
   "id": "0388efa1",
   "metadata": {},
   "source": [
    "### `Adam` Optimizer"
   ]
  },
  {
   "cell_type": "markdown",
   "id": "0ee5c6cc",
   "metadata": {},
   "source": [
    "The hyperparameters `lr`, `loss_weights` and `decay` have been selected through trial and error. "
   ]
  },
  {
   "cell_type": "code",
   "execution_count": 10,
   "id": "c0c49062",
   "metadata": {},
   "outputs": [
    {
     "name": "stdout",
     "output_type": "stream",
     "text": [
      "Compiling model...\n",
      "'compile' took 2.778202 s\n",
      "\n",
      "Training model...\n",
      "\n",
      "Step      Train loss                                            Test loss                                             Test metric   \n",
      "0         [1.68e+03, 0.00e+00, 1.02e+03, 3.69e+02, 4.14e+01]    [2.07e+03, 0.00e+00, 1.02e+03, 3.69e+02, 4.14e+01]    [6.94e-01]    \n",
      "500       [8.51e-01, 1.31e-03, 1.80e-03, 1.76e-01, 2.59e+01]    [6.14e-01, 1.31e-03, 1.80e-03, 1.76e-01, 2.59e+01]    [8.63e-01]    \n",
      "1000      [4.38e-02, 6.59e-03, 1.59e-05, 8.93e-07, 1.96e-02]    [3.84e-02, 6.59e-03, 1.59e-05, 8.93e-07, 1.96e-02]    [3.01e-02]    \n",
      "1500      [3.63e-02, 1.47e-08, 4.30e-09, 8.34e-12, 3.12e-04]    [3.80e-02, 1.47e-08, 4.30e-09, 8.34e-12, 3.12e-04]    [3.22e-03]    \n",
      "2000      [2.62e-01, 2.91e+00, 2.50e-04, 3.41e-02, 1.84e-03]    [2.94e-01, 2.91e+00, 2.50e-04, 3.41e-02, 1.84e-03]    [1.69e-01]    \n",
      "2500      [3.01e-02, 2.21e-03, 5.84e-07, 2.49e-05, 7.03e-04]    [3.08e-02, 2.21e-03, 5.84e-07, 2.49e-05, 7.03e-04]    [8.76e-03]    \n",
      "\n",
      "Best model at step 2500:\n",
      "  train loss: 3.30e-02\n",
      "  test loss: 3.38e-02\n",
      "  test metric: [8.76e-03]\n",
      "\n",
      "'train' took 39.483362 s\n",
      "\n"
     ]
    }
   ],
   "source": [
    "##############\n",
    "# Model Creation\n",
    "model = dde.Model(data, net)\n",
    "\n",
    "model.compile(\"adam\", lr=1e-2,\n",
    "              metrics=[\"l2 relative error\"],\n",
    "              loss_weights=[1e4, 1e4, 1e4, 1e4, 1e4],\n",
    "              decay=(\"step\", 500, 0.8))\n",
    "\n",
    "# Model training\n",
    "losshistory, train_state = model.train(iterations=2_500, display_every=500)\n"
   ]
  },
  {
   "cell_type": "markdown",
   "id": "d06766a4",
   "metadata": {},
   "source": [
    "### `L-BFGS-B` Algorithm"
   ]
  },
  {
   "cell_type": "code",
   "execution_count": 11,
   "id": "d73a8e0e",
   "metadata": {},
   "outputs": [
    {
     "name": "stdout",
     "output_type": "stream",
     "text": [
      "Compiling model...\n",
      "'compile' took 0.000330 s\n",
      "\n",
      "Training model...\n",
      "\n",
      "Step      Train loss                                            Test loss                                             Test metric   \n",
      "2500      [3.01e-06, 2.21e-07, 5.84e-11, 2.49e-09, 7.03e-08]    [3.08e-06, 2.21e-07, 5.84e-11, 2.49e-09, 7.03e-08]    [8.76e-03]    \n",
      "\n",
      "Best model at step 2500:\n",
      "  train loss: 3.30e-06\n",
      "  test loss: 3.38e-06\n",
      "  test metric: [8.76e-03]\n",
      "\n",
      "'train' took 0.023454 s\n",
      "\n"
     ]
    }
   ],
   "source": [
    "# For finer convergence\n",
    "model.compile(\"L-BFGS-B\", metrics=[\"l2 relative error\"])  \n",
    "losshistory, train_state = model.train()\n"
   ]
  },
  {
   "cell_type": "markdown",
   "id": "08d77dfc",
   "metadata": {},
   "source": [
    "## Visualization"
   ]
  },
  {
   "cell_type": "markdown",
   "id": "49542a75",
   "metadata": {},
   "source": [
    "### Numerical Values"
   ]
  },
  {
   "cell_type": "code",
   "execution_count": 12,
   "id": "64794772",
   "metadata": {},
   "outputs": [
    {
     "name": "stdout",
     "output_type": "stream",
     "text": [
      "#################\n",
      "y_pred at left boundary   : 0.05 mm\n",
      "y_exact at left boundary  : -0.00 mm\n",
      "#################\n",
      "y_pred at right boundary  : -19.86 mm\n",
      "y_exact at right boundary : -20.00 mm\n",
      "#################\n"
     ]
    }
   ],
   "source": [
    "# Prediction\n",
    "X = np.linspace(0, L, 100).reshape(-1, 1)\n",
    "y_pred_norm = model.predict(X)\n",
    "y_exact_norm = func_exact_solution(X)\n",
    "\n",
    "# De-normalized\n",
    "y_pred = y_pred_norm*uy_max\n",
    "y_exact = y_exact_norm*uy_max\n",
    "\n",
    "# Print\n",
    "print(\"#\"*17)\n",
    "print(f'y_pred at left boundary   : {y_pred[0, 0]*1e3:.2f} mm')\n",
    "print(f'y_exact at left boundary  : {y_exact[0, 0]*1e3:.2f} mm')\n",
    "print(\"#\"*17)\n",
    "print(f'y_pred at right boundary  : {y_pred[-1, 0]*1e3:.2f} mm')\n",
    "print(f'y_exact at right boundary : {y_exact[-1, 0]*1e3:.2f} mm')\n",
    "print(\"#\"*17)\n"
   ]
  },
  {
   "cell_type": "markdown",
   "id": "44ed7bda",
   "metadata": {},
   "source": [
    "### Plot"
   ]
  },
  {
   "cell_type": "code",
   "execution_count": 13,
   "id": "adf21d5d",
   "metadata": {},
   "outputs": [
    {
     "data": {
      "image/png": "[encoded data removed]",
      "text/plain": [
       "<Figure size 600x300 with 1 Axes>"
      ]
     },
     "metadata": {},
     "output_type": "display_data"
    }
   ],
   "source": [
    "# Plotting\n",
    "import matplotlib.pyplot as plt\n",
    "\n",
    "plt.figure(figsize=(6, 3))\n",
    "plt.plot(X, y_exact*1000, \"*k\", label=\"y_exact\")\n",
    "plt.plot(X, y_pred*1000, \"r\", label=\"y_pred (DeepXDE)\")\n",
    "plt.xlabel(\"x (m)\")\n",
    "plt.ylabel(\"Deflection (in mm)\")\n",
    "plt.title(\"Beam Deflection\")\n",
    "plt.axis([0, L, -25, 5])\n",
    "plt.legend()\n",
    "plt.grid(True)\n",
    "plt.show()\n"
   ]
  },
  {
   "cell_type": "code",
   "execution_count": null,
   "id": "723c4f55",
   "metadata": {},
   "outputs": [],
   "source": []
  }
 ],
 "metadata": {
  "kernelspec": {
   "display_name": "test_pinns",
   "language": "python",
   "name": "python3"
  },
  "language_info": {
   "codemirror_mode": {
    "name": "ipython",
    "version": 3
   },
   "file_extension": ".py",
   "mimetype": "text/x-python",
   "name": "python",
   "nbconvert_exporter": "python",
   "pygments_lexer": "ipython3",
   "version": "3.12.0"
  }
 },
 "nbformat": 4,
 "nbformat_minor": 5
}
